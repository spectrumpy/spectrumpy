{
 "cells": [
  {
   "cell_type": "markdown",
   "metadata": {},
   "source": [
    "# Spectrum and Spectrum Spatial Python Packages \n",
    "This notebook describes the <b><code>spectrumpy</code></b> and <b><code>spectrumspatialpy</code></b> python libraries through examples. \n",
    "<br/><br/>\n",
    "<hr/>\n",
    "<blockquote>\n",
    "<p>Copyright 2019 Pitney Bowes Inc.</p>\n",
    "\n",
    "<p>Licensed under the Apache License, Version 2.0 (the \"License\"); you may not use this file except in compliance with the License.  You may obtain a copy of the License at\n",
    "\n",
    "    http://www.apache.org/licenses/LICENSE-2.0 \n",
    "\n",
    "Unless required by applicable law or agreed to in writing, software distributed under the License is distributed on an \"AS IS\" BASIS, WITHOUT WARRANTIES OR CONDITIONS OF ANY KIND, either express or implied.  See the License for the specific language governing permissions and limitations under the License.\n",
    "</p>\n",
    "</blockquote>"
   ]
  },
  {
   "cell_type": "markdown",
   "metadata": {},
   "source": [
    "# About the Spectrum and Spectrum Spatial packages\n",
    "<p><b><i>spectrumpy</i></b> is a Python package that connects to a Spectrum server. The servers and credentials available can be defined in a configuration file located on the Jupyter notebook server. This is to avoid the need to include Spectrum URLs and credntials in notebooks in plain text. </p>\n",
    "<p> <code>spectrumpy</code> will dynamically detect web services exposed from data flows created in Spectrum and make them available as Python functions. This package, as well as <code>spectrumspatialpy</code> can be used in any Python environment including Jupyter notebooks such as these.</p>\n",
    "<p>The <code>spectrumpy</code> package can be used without the <code>spectrumspatialpy</code> package. </p>\n",
    "<p>The <b><i>spectrumspatialpy</i></b> package provides Python integration for the Spectrum Spatial services such as the Feature Service for querying spatial data. This package requires <code>spectrumpy</code> as a prerequisite, along with other requirements listed below.</p>\n",
    "<br/>\n",
    "\n",
    "### Setup and Prerequisites\n",
    "\n",
    "<p>Prerequisites are desicribed in the <code>Spectrum Python Setup</code> notebook.</p><br/>\n",
    "\n",
    "<br/>\n",
    "<br/>\n",
    "<br/>\n"
   ]
  },
  {
   "cell_type": "markdown",
   "metadata": {},
   "source": [
    "# Using spectrumpy\n",
    "Once the library is installed, you should be able to import it into this notebook by executing the import command as shown in the following cell. Note that using spectrumspatialpy is covered in a separate notebook with this notebook serving as a prerequisite."
   ]
  },
  {
   "cell_type": "code",
   "execution_count": 7,
   "metadata": {},
   "outputs": [],
   "source": [
    "import spectrumpy"
   ]
  },
  {
   "cell_type": "markdown",
   "metadata": {},
   "source": [
    "<br/>\n",
    "<br/>\n",
    "<br/>\n",
    "\n",
    "### Spectrum Servers\n",
    "The package was designed to not require username and passwords to be embedded within the notebook. The package looks for an INI file which will identify all \"registered\" or known Spectrum hosts and credentials. The default INI in the package looks like this:\n",
    "<pre>\n",
    "<code>\n",
    "[SERVERS]\n",
    "1=localhost\n",
    "\n",
    "[localhost]\n",
    "url=http://127.0.0.1:8080/\n",
    "user=admin\n",
    "pwd=admin\n",
    "</code>\n",
    "</pre>\n",
    "This file identifies one known server named \"localhost\". The localhost section then stores the URL, username, and password. This file is read when the package is imported into the notebook. The localhost server is local to the Jupyter notebook (python engine). Additional initialization files can be specified in the user's home directory in a file named <code>.spectrum_servers.ini</code> or in this notebook's folder in a file named <code>.spectrum_servers.ini</code>.\n",
    "\n",
    "<br/>\n",
    "The root class in the spectrum package is called Servers and provides a method called getAvailableServers to print out the names of the known servers. The next cell will list them.\n"
   ]
  },
  {
   "cell_type": "code",
   "execution_count": 8,
   "metadata": {},
   "outputs": [
    {
     "name": "stdout",
     "output_type": "stream",
     "text": [
      "['localhost', 'CaryLaptop', 'Anand']\n"
     ]
    }
   ],
   "source": [
    "print (spectrumpy.Servers.getAvailableServers())"
   ]
  },
  {
   "cell_type": "markdown",
   "metadata": {},
   "source": [
    "On my machine, the above cell lists two servers: 'localhost' and 'CaryLaptop'. Since the server.ini file is located within the package source, we don't want to require users to have to modify it in this location. This notebook includes a file named \".spectrum_servers.ini\" in the notebook's root directory. This file on my machine adds another Spectrum server called 'CaryLaptop' that refers to my local Spectrum machine like this:\n",
    "<pre>\n",
    "<code>\n",
    "\n",
    "[SERVERS]\n",
    "2=CaryLaptop\n",
    "\n",
    "[CaryLaptop]\n",
    "url=http://127.0.0.1:8080/\n",
    "user=admin\n",
    "pwd=admin\n",
    "\n",
    "\n",
    "</code>\n",
    "</pre>\n",
    "Notice that the <code>SERVERS</code> section uses a numeric key starting with 2. This is because the INI file found with the package has a key starting with 1. If this file started at 1, this would replace the 1 from the root INI file and effectively eliminate the localhost default setting. The definition of CaryLaptop happens to be the same as localhost, but is included for illustrative purposes.\n",
    "<br/>\n",
    "<br/>\n",
    "To connect to a named Spectrum server, use the method \"getServer\" off the Servers object. The cell below connects to my Troy dev instance and returns a Server object which is assigned to a variable named myServer."
   ]
  },
  {
   "cell_type": "code",
   "execution_count": 9,
   "metadata": {},
   "outputs": [],
   "source": [
    "myServer=spectrumpy.Servers.getServer('localhost')"
   ]
  },
  {
   "cell_type": "markdown",
   "metadata": {},
   "source": [
    "The Spectrum Server object will connect to Spectrum, dynamically detect all of the exposed rest services through the \"/rest/\" endpoint and add methods for each under an object called SpectrumServices. The Apis member of this object provides an iterator through each of the services. The following cell will list all of the known services exposed at \"myServer\"."
   ]
  },
  {
   "cell_type": "code",
   "execution_count": 10,
   "metadata": {},
   "outputs": [
    {
     "name": "stdout",
     "output_type": "stream",
     "text": [
      "GlobalSentry\n",
      "ValidateAddressAUS\n",
      "RelationshipExtractor\n",
      "USDatabaseLookup\n",
      "spectrumspatialpy_route\n",
      "GetCityStateProvinceLoqate\n",
      "Ottawa\n",
      "ValidateAddressGlobal\n",
      "GetPostalCodes\n",
      "GeocodeAddressWorld\n",
      "AddressParser\n",
      "Centrus\n",
      "ReverseGeoTAXInfoLookup\n",
      "ReverseAPNLookup\n",
      "GlobalAddressValidation\n",
      "GlobalGeocode\n",
      "AssignGeoTAXInfo\n",
      "GetPostalCodesLoqate\n",
      "TextCategorizer\n",
      "AutoCompleteLoqate\n",
      "EnvinsaGeocode\n",
      "CalculateDistance\n",
      "ReverseGeocodeUSLocation\n",
      "GeocodeUSAddress\n",
      "SpectumSpatialPy_Ottawa_nearest_schools_by_road\n",
      "ReversePBKeyLookup\n",
      "ValidateAddress\n",
      "spectrumpy\n",
      "EnvinsaHealthCheck\n",
      "GetCandidateAddressesLoqate\n",
      "GetCityStateProvince\n",
      "GlobalTypeAhead\n",
      "OpenNameParser\n",
      "GlobalSentryBatch\n",
      "EntityExtractor\n",
      "PlatformConfiguration\n",
      "Spatial\n",
      "GetCandidateAddresses\n",
      "ValidateAddressLoqate\n",
      "GetTravelBoundary\n"
     ]
    }
   ],
   "source": [
    "for api in myServer.SpectrumServices().Apis:\n",
    "    print(api)"
   ]
  },
  {
   "cell_type": "markdown",
   "metadata": {},
   "source": [
    "There should be in the list above \"GeocodeUSAddress\". Since most Spectrums will have some US geocoding installed, we will use that as an example of how to dynamically call this service. The actual service typically exposes two resources - results.json and results.xml. The JSON endpoint is used by this library. Data and Option query parameters can be passed to the function <i><b>except</b></i> the periods (.) should be replaced with underscores (\"_\"). Thus the following cell will call the GeocodeUSAddress rest service using the Data.AddressLine1 and Option.Dataset query parameters as function arguments Data_AddressLine1 and Option_Dataset respectively."
   ]
  },
  {
   "cell_type": "code",
   "execution_count": 11,
   "metadata": {},
   "outputs": [
    {
     "name": "stdout",
     "output_type": "stream",
     "text": [
      "{\r\n",
      "  \"output_port\" : [ {\r\n",
      "    \"BlockSuffix\" : \"\",\r\n",
      "    \"CBSADivisionCode\" : \"\",\r\n",
      "    \"CBSAMetro\" : \"Y\",\r\n",
      "    \"CBSACode\" : \"10580\",\r\n",
      "    \"CensusBlockID\" : \"360830523011008\",\r\n",
      "    \"USFIPSCountyNumber\" : \"083\",\r\n",
      "    \"CSACode\" : \"104\",\r\n",
      "    \"CensusTract\" : \"052301\",\r\n",
      "    \"USFIPSStateCode\" : \"36\",\r\n",
      "    \"USFIPSStateCountyCode\" : \"36083\",\r\n",
      "    \"Latitude\" : \"42.682259\",\r\n",
      "    \"Longitude\" : \"-73.704710\",\r\n",
      "    \"StreetSide\" : \"L\",\r\n",
      "    \"FirmName\" : \"\",\r\n",
      "    \"AddressLine1\" : \"1 Global Vw\",\r\n",
      "    \"AddressLine2\" : \"\",\r\n",
      "    \"LastLine\" : \"Troy, NY  12180-8371\",\r\n",
      "    \"StreetName\" : \"Global\",\r\n",
      "    \"CrossStreetName\" : \"\",\r\n",
      "    \"LeadingDirectional\" : \"\",\r\n",
      "    \"CrossStreetLeadingDirectional\" : \"\",\r\n",
      "    \"HouseNumber\" : \"1\",\r\n",
      "    \"HouseNumber2\" : \"\",\r\n",
      "    \"TrailingDirectional\" : \"\",\r\n",
      "    \"CrossStreetTrailingDirectional\" : \"\",\r\n",
      "    \"StreetSuffix\" : \"Vw\",\r\n",
      "    \"CrossStreetSuffix\" : \"\",\r\n",
      "    \"ApartmentLabel\" : \"\",\r\n",
      "    \"ApartmentLabel2\" : \"\",\r\n",
      "    \"ApartmentNumber\" : \"\",\r\n",
      "    \"ApartmentNumber2\" : \"\",\r\n",
      "    \"AdditionalInputData\" : \"\",\r\n",
      "    \"City\" : \"Troy\",\r\n",
      "    \"StateProvince\" : \"NY\",\r\n",
      "    \"PostalCode.Base\" : \"12180\",\r\n",
      "    \"PostalCode.AddOn\" : \"8371\",\r\n",
      "    \"PostalCode\" : \"12180-8371\",\r\n",
      "    \"PrivateMailbox.Designator\" : \"\",\r\n",
      "    \"PrivateMailbox\" : \"\",\r\n",
      "    \"USUrbanName\" : \"\",\r\n",
      "    \"Country\" : \"United States of America\",\r\n",
      "    \"RRHC\" : \"\",\r\n",
      "    \"USCarrierRouteCode\" : \"C099\",\r\n",
      "    \"USBCCheckDigit\" : \"8\",\r\n",
      "    \"PostalBarCode\" : \"837101\",\r\n",
      "    \"DeliveryPointCode\" : \"01\",\r\n",
      "    \"GovernmentBuilding\" : \"\",\r\n",
      "    \"USLOTCode\" : \"0053A\",\r\n",
      "    \"USCarrierRouteSort\" : \"D\",\r\n",
      "    \"USCityDelivery\" : \"Y\",\r\n",
      "    \"PostalCodeClass\" : \"\",\r\n",
      "    \"PostalFacility\" : \"P\",\r\n",
      "    \"PostalCodeUnique\" : \"\",\r\n",
      "    \"CityStateRecordName\" : \"Troy\",\r\n",
      "    \"CityPreferredName\" : \"Troy\",\r\n",
      "    \"CityShortName\" : \"Troy\",\r\n",
      "    \"Alternate\" : \"B\",\r\n",
      "    \"HouseNumberHigh\" : \"1\",\r\n",
      "    \"HouseNumberLow\" : \"1\",\r\n",
      "    \"HouseNumberParity\" : \"O\",\r\n",
      "    \"UnitNumberHigh\" : \"\",\r\n",
      "    \"UnitNumberLow\" : \"\",\r\n",
      "    \"UnitNumberParity\" : \"\",\r\n",
      "    \"PostalCodeExtensionHigh\" : \"8371\",\r\n",
      "    \"PostalCodeExtensionLow\" : \"8371\",\r\n",
      "    \"AddressLineResolved\" : \"\",\r\n",
      "    \"EWSMatch\" : \"\",\r\n",
      "    \"RecordType.Default\" : \"U\",\r\n",
      "    \"Intersection\" : \"F\",\r\n",
      "    \"IsAlias\" : \"N01\",\r\n",
      "    \"LACSAddress\" : \"\",\r\n",
      "    \"LocationCode\" : \"AP05\",\r\n",
      "    \"MatchCode\" : \"S80\",\r\n",
      "    \"RecordType\" : \"Normal\",\r\n",
      "    \"GeoStanMatchScore\" : \"0.0020250\",\r\n",
      "    \"CountryLevel\" : \"A\",\r\n",
      "    \"StreetDataType\" : \"MASTER LOCATION\",\r\n",
      "    \"StreetDataCode\" : \"12\",\r\n",
      "    \"DatabaseVersion\" : \"April 2019\",\r\n",
      "    \"ExpirationDate\" : \"08/28/2019\",\r\n",
      "    \"BlockLeft\" : \"360830523011008\",\r\n",
      "    \"BlockRight\" : \"\",\r\n",
      "    \"BlockSuffixLeft\" : \"\",\r\n",
      "    \"BlockSuffixRight\" : \"\",\r\n",
      "    \"RoadClass\" : \"01\",\r\n",
      "    \"SegmentDirection\" : \"F\",\r\n",
      "    \"SegmentHouseNumberHigh\" : \"1\",\r\n",
      "    \"SegmentHouseNumberLow\" : \"1\",\r\n",
      "    \"SegmentCode\" : \"91920672\",\r\n",
      "    \"SegmentLength\" : \"\",\r\n",
      "    \"SegmentParity\" : \"L\",\r\n",
      "    \"PointCode\" : \"105104102\",\r\n",
      "    \"Confidence\" : \"100\",\r\n",
      "    \"ProcessedBy\" : \"KGL\",\r\n",
      "    \"AuxiliaryData\" : \"\",\r\n",
      "    \"MCDName\" : \"\",\r\n",
      "    \"MCDCode\" : \"\",\r\n",
      "    \"Geocoder.MatchCode\" : \"S8HPNTSCZA\",\r\n",
      "    \"IsCloseMatch\" : \"Y\",\r\n",
      "    \"StreetSegmentPoints\" : [ ],\r\n",
      "    \"PBKey\" : \"P0000GL41OME\",\r\n",
      "    \"Status\" : \"\",\r\n",
      "    \"Status.Code\" : \"\",\r\n",
      "    \"Status.Description\" : \"\",\r\n",
      "    \"user_fields\" : [ ]\r\n",
      "  } ]\r\n",
      "}\n"
     ]
    }
   ],
   "source": [
    "s = myServer.SpectrumServices().GeocodeUSAddress(Data_AddressLine1=\"one global view, troy, ny 12180\",\n",
    "                                                 Option_Dataset=\"us\", \n",
    "                                                 Option_OutputRecordType=\"Auxiliary,Census,Geo Confidence,Latitude/Longitude,Postal Data,Qualifiers,Range,Segment\")\n",
    "print (s)"
   ]
  },
  {
   "cell_type": "markdown",
   "metadata": {},
   "source": [
    "The services object also exposes a Help function that will print out the detailed list of available function parameters. The following example illustrates the help for the GeocodeUSAddress function."
   ]
  },
  {
   "cell_type": "code",
   "execution_count": 12,
   "metadata": {},
   "outputs": [
    {
     "name": "stdout",
     "output_type": "stream",
     "text": [
      "RequestType: GET\n",
      "ContentType: application/json\n",
      "Method: results.json_GET\n",
      "URL: http://localhost:8080/rest/GeocodeUSAddress/results.json\n",
      "Arguments:\n",
      "   Data_FirmName : xs:string => Data.FirmName\n",
      "   Data_AddressLine1 : xs:string => Data.AddressLine1\n",
      "   Data_AddressLine2 : xs:string => Data.AddressLine2\n",
      "   Data_AddressLine3 : xs:string => Data.AddressLine3\n",
      "   Data_AddressLine4 : xs:string => Data.AddressLine4\n",
      "   Data_AddressLine5 : xs:string => Data.AddressLine5\n",
      "   Data_AddressLine6 : xs:string => Data.AddressLine6\n",
      "   Data_LastLine : xs:string => Data.LastLine\n",
      "   Data_City : xs:string => Data.City\n",
      "   Data_StateProvince : xs:string => Data.StateProvince\n",
      "   Data_PostalCode : xs:string => Data.PostalCode\n",
      "   Data_Longitude : xs:string => Data.Longitude\n",
      "   Data_Latitude : xs:string => Data.Latitude\n",
      "   Option_Dataset : xs:string => Option.Dataset\n",
      "   Option_AlwaysFindCandidates : xs:string => Option.AlwaysFindCandidates\n",
      "   Option_CenterlineOffset : xs:string => Option.CenterlineOffset\n",
      "   Option_Offset : xs:string => Option.Offset\n",
      "   Option_Squeeze : xs:string => Option.Squeeze\n",
      "   Option_Datum : xs:string => Option.Datum\n",
      "   Option_CentroidPreference : xs:string => Option.CentroidPreference\n",
      "   Option_LatLonFormat : xs:string => Option.LatLonFormat\n",
      "   Option_RetrieveAPN : xs:string => Option.RetrieveAPN\n",
      "   Option_RetrieveElevation : xs:string => Option.RetrieveElevation\n",
      "   Option_FallbackToStreet : xs:string => Option.FallbackToStreet\n",
      "   Option_FallbackToGeographic : xs:string => Option.FallbackToGeographic\n",
      "   Option_AddressPointInterpolation : xs:string => Option.AddressPointInterpolation\n",
      "   Option_MatchMode : xs:string => Option.MatchMode\n",
      "   Option_ExtendedMatchCode : xs:string => Option.ExtendedMatchCode\n",
      "   Option_MustMatchHouseNumber : xs:string => Option.MustMatchHouseNumber\n",
      "   Option_MustMatchStreet : xs:string => Option.MustMatchStreet\n",
      "   Option_MustMatchCity : xs:string => Option.MustMatchCity\n",
      "   Option_MustMatchStateProvince : xs:string => Option.MustMatchStateProvince\n",
      "   Option_MustMatchPostalCode : xs:string => Option.MustMatchPostalCode\n",
      "   Option_AddressPreference : xs:string => Option.AddressPreference\n",
      "   Option_PerformDPV : xs:string => Option.PerformDPV\n",
      "   Option_PerformLACSLink : xs:string => Option.PerformLACSLink\n",
      "   Option_PreferZipCodeOverCity : xs:string => Option.PreferZipCodeOverCity\n",
      "   Option_KeepMultimatch : xs:string => Option.KeepMultimatch\n",
      "   Option_FirmNameSearch : xs:string => Option.FirmNameSearch\n",
      "   Option_BuildingSearch : xs:string => Option.BuildingSearch\n",
      "   Option_FirstLetterSearch : xs:string => Option.FirstLetterSearch\n",
      "   Option_PredictiveLastLine : xs:string => Option.PredictiveLastLine\n",
      "   Option_KeepCandidates : xs:string => Option.KeepCandidates\n",
      "   Option_CloseMatchesOnly : xs:string => Option.CloseMatchesOnly\n",
      "   Option_OutputCasing : xs:string => Option.OutputCasing\n",
      "   Option_OutputRecordType : xs:string => Option.OutputRecordType\n",
      "   Option_OutputFields : xs:string => Option.OutputFields\n",
      "   Option_OutputFormattedOnFail : xs:string => Option.OutputFormattedOnFail\n",
      "   Option_OutputPostalCodeSeparator : xs:string => Option.OutputPostalCodeSeparator\n",
      "   Option_OutputVerbose : xs:string => Option.OutputVerbose\n",
      "   Option_FIND_APPROXIMATE_PBKEY : xs:string => Option.FIND_APPROXIMATE_PBKEY\n",
      "   Option_SearchDistance : xs:string => Option.SearchDistance\n",
      "   Option_FIND_SEARCH_AREA : xs:string => Option.FIND_SEARCH_AREA\n",
      "   Option_FIND_SEARCH_AREA_DISTANCE : xs:string => Option.FIND_SEARCH_AREA_DISTANCE\n"
     ]
    }
   ],
   "source": [
    "myServer.SpectrumServices().Help('GeocodeUSAddress')"
   ]
  },
  {
   "cell_type": "markdown",
   "metadata": {},
   "source": [
    "##### Calling a DataFlow service\n",
    "\n",
    "Dataflows exposed as web services will be dynamically exposed on the spectrumpy server as functions that can be invoked as well. This notebook includes a sample service named <code>spectrumpy</code>. The service does nothing very interesting and makes no assumptions about installed modules. The dataflow is included with this notebook under the <code>dataflows</code> folder and can be imported into your Spectrum. The dataflow is defined as follows:\n",
    "<IMG src=\"images\\spectrumpy_dataflow.png\"/>\n",
    "Given the following sample input\n",
    "<IMG src=\"images\\spectrumpy_inspection_input.png\"/>\n",
    "It produces the following output\n",
    "<IMG src=\"images\\spectrumpy_inspection_output.png\"/>\n",
    "<br/>\n",
    "Here is how to call the web service from within the notebook:"
   ]
  },
  {
   "cell_type": "code",
   "execution_count": 13,
   "metadata": {},
   "outputs": [
    {
     "name": "stdout",
     "output_type": "stream",
     "text": [
      "{\n",
      "  \"Output\" : [ {\n",
      "    \"strOutput_1\" : \"foo\",\n",
      "    \"strInput\" : \"foo\",\n",
      "    \"typeInput\" : 1,\n",
      "    \"user_fields\" : [ ]\n",
      "  } ]\n",
      "}\n",
      "{\n",
      "  \"Output\" : [ {\n",
      "    \"strInput\" : \"bar\",\n",
      "    \"typeInput\" : 2,\n",
      "    \"strOutput_2\" : \"bar\",\n",
      "    \"user_fields\" : [ ]\n",
      "  } ]\n",
      "}\n",
      "{\n",
      "  \"Output\" : [ {\n",
      "    \"Status\" : \"F\",\n",
      "    \"Status.Code\" : \"400\",\n",
      "    \"Status.Description\" : \"Invalid value for typeInput\",\n",
      "    \"strInput\" : \"fubar\",\n",
      "    \"typeInput\" : 3,\n",
      "    \"user_fields\" : [ ]\n",
      "  } ]\n",
      "}\n"
     ]
    }
   ],
   "source": [
    "s = myServer.SpectrumServices().spectrumpy(Data_strInput=\"foo\",Data_typeInput=\"1\")\n",
    "print(s)\n",
    "s = myServer.SpectrumServices().spectrumpy(Data_strInput=\"bar\",Data_typeInput=\"2\")\n",
    "print(s)\n",
    "s = myServer.SpectrumServices().spectrumpy(Data_strInput=\"fubar\",Data_typeInput=\"3\")\n",
    "print(s)"
   ]
  },
  {
   "cell_type": "code",
   "execution_count": null,
   "metadata": {},
   "outputs": [],
   "source": []
  }
 ],
 "metadata": {
  "kernelspec": {
   "display_name": "Python 3",
   "language": "python",
   "name": "python3"
  },
  "language_info": {
   "codemirror_mode": {
    "name": "ipython",
    "version": 3
   },
   "file_extension": ".py",
   "mimetype": "text/x-python",
   "name": "python",
   "nbconvert_exporter": "python",
   "pygments_lexer": "ipython3",
   "version": "3.7.4"
  }
 },
 "nbformat": 4,
 "nbformat_minor": 2
}
