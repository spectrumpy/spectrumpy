{
 "cells": [
  {
   "cell_type": "markdown",
   "metadata": {},
   "source": [
    "# Setting up the Spectrum and Spectrum Spatial Python Packages \n",
    "This notebook describes how to install the <b><code>spectrumpy</code></b> and <b><code>spectrumspatialpy</code></b> python libraries through examples. \n",
    "<br/><br/>\n",
    "<hr/>\n",
    "<blockquote>\n",
    "<p>Copyright 2019 Pitney Bowes Inc.</p>\n",
    "\n",
    "<p>Licensed under the Apache License, Version 2.0 (the \"License\"); you may not use this file except in compliance with the License.  You may obtain a copy of the License at\n",
    "\n",
    "    http://www.apache.org/licenses/LICENSE-2.0 \n",
    "\n",
    "Unless required by applicable law or agreed to in writing, software distributed under the License is distributed on an \"AS IS\" BASIS, WITHOUT WARRANTIES OR CONDITIONS OF ANY KIND, either express or implied.  See the License for the specific language governing permissions and limitations under the License.\n",
    "</p>\n",
    "</blockquote>"
   ]
  },
  {
   "cell_type": "markdown",
   "metadata": {},
   "source": [
    "### Setup and Prerequisites\n",
    "\n",
    "###### Installing Jupyter\n",
    "<p>Download and install Jupyter using the Anaconda Python 3.6 or later distribution at http://jupyter.org/install. Note do not use Python v2.x. The Anaconda distribution makes it very easy to setup and get up and running quickly.</p>\n",
    "<p>This notebook, the resources it embeds such as images, etc can be stored anywhere as long as the internal folder structure and file names are retained. Once Jupyter is installed and started, from the Jupyter home page navigate to the notebook and launch it.</p>\n"
   ]
  },
  {
   "cell_type": "markdown",
   "metadata": {},
   "source": [
    "###### Installing the spectrumpy package"
   ]
  },
  {
   "cell_type": "code",
   "execution_count": 1,
   "metadata": {},
   "outputs": [
    {
     "name": "stdout",
     "output_type": "stream",
     "text": [
      "Note: you may need to restart the kernel to use updated packages.\n"
     ]
    }
   ],
   "source": [
    "pip install --quiet git+https://github.com/PitneyBowes/spectrumpy#egg=spectrumpy"
   ]
  },
  {
   "cell_type": "markdown",
   "metadata": {},
   "source": [
    "###### Prerequisite to installing the spectrumspatialpy package:\n",
    "The <b><i>spectrumspatialpy</i></b> package provides Python integration for the Spectrum Spatial services such as the Feature Service for querying spatial data. The package depends on several other packages, many of which will be installed when installing the spectrumspatialpy package. However, there are a few exceptions. From the Anaconda Command Prompt (which can be found in the Windows menu under Anaconda3 (64-bit)) run these commands:\n",
    "\n",
    "  * conda install shapely\n",
    "  * conda install geopandas\n"
   ]
  },
  {
   "cell_type": "code",
   "execution_count": 2,
   "metadata": {},
   "outputs": [
    {
     "name": "stdout",
     "output_type": "stream",
     "text": [
      "Collecting package metadata (current_repodata.json): ...working... done\n",
      "Solving environment: ...working... done\n",
      "\n",
      "# All requested packages already installed.\n",
      "\n",
      "\n",
      "Note: you may need to restart the kernel to use updated packages.\n"
     ]
    }
   ],
   "source": [
    "conda install -y shapely geopandas"
   ]
  },
  {
   "cell_type": "markdown",
   "metadata": {},
   "source": [
    "###### Installing the spectrumspatialpy package"
   ]
  },
  {
   "cell_type": "code",
   "execution_count": 3,
   "metadata": {},
   "outputs": [
    {
     "name": "stdout",
     "output_type": "stream",
     "text": [
      "Note: you may need to restart the kernel to use updated packages.\n"
     ]
    }
   ],
   "source": [
    "pip install --quiet git+https://github.com/PitneyBowes/spectrumpy#egg=spectrumspatialpy"
   ]
  },
  {
   "cell_type": "markdown",
   "metadata": {},
   "source": [
    "<br/>\n",
    "<br/>\n",
    "<br/>\n",
    "\n",
    "###### Installing and Enabling Leaflet\n",
    "<code>spectrumspatialpy</code> does not use ipyleaflet, however, the sample notebook for it does. The <code>ipyleaflet</code> package enables leaflet maps to be generated and displayed directly within the notebook itself. "
   ]
  },
  {
   "cell_type": "code",
   "execution_count": 4,
   "metadata": {},
   "outputs": [
    {
     "name": "stdout",
     "output_type": "stream",
     "text": [
      "Note: you may need to restart the kernel to use updated packages.\n"
     ]
    }
   ],
   "source": [
    "pip install --quiet ipyleaflet"
   ]
  },
  {
   "cell_type": "markdown",
   "metadata": {},
   "source": [
    "There are sometimes issues with the map displaying. To enable <code>ipyleaflet</code> to display properly, the following command must be run:\n",
    "<pre>\n",
    "jupyter nbextension enable --py --sys-prefix ipyleaflet\n",
    "</pre>\n",
    "To run this command, either launch an Anaconda prompt from the Windows menu or from the Jupyter main home page, launch a terminal session and enter the command there as shown in the following images.<br/>\n",
    "<IMG src=\"images\\Terminal_Session.png\"/>\n",
    "Note: You should restart the kernel before opening and running the Spectrum Spatial notebook."
   ]
  },
  {
   "cell_type": "code",
   "execution_count": null,
   "metadata": {},
   "outputs": [],
   "source": []
  }
 ],
 "metadata": {
  "kernelspec": {
   "display_name": "Python 3",
   "language": "python",
   "name": "python3"
  },
  "language_info": {
   "codemirror_mode": {
    "name": "ipython",
    "version": 3
   },
   "file_extension": ".py",
   "mimetype": "text/x-python",
   "name": "python",
   "nbconvert_exporter": "python",
   "pygments_lexer": "ipython3",
   "version": "3.7.4"
  }
 },
 "nbformat": 4,
 "nbformat_minor": 2
}
